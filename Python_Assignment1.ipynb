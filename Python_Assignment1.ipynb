{
  "nbformat": 4,
  "nbformat_minor": 0,
  "metadata": {
    "colab": {
      "provenance": [],
      "authorship_tag": "ABX9TyNGj+zm1Lr/5KR/B7szD9om",
      "include_colab_link": true
    },
    "kernelspec": {
      "name": "python3",
      "display_name": "Python 3"
    },
    "language_info": {
      "name": "python"
    }
  },
  "cells": [
    {
      "cell_type": "markdown",
      "metadata": {
        "id": "view-in-github",
        "colab_type": "text"
      },
      "source": [
        "<a href=\"https://colab.research.google.com/github/HazelLi618/colab_projects/blob/main/Python_Assignment1.ipynb\" target=\"_parent\"><img src=\"https://colab.research.google.com/assets/colab-badge.svg\" alt=\"Open In Colab\"/></a>"
      ]
    },
    {
      "cell_type": "code",
      "execution_count": null,
      "metadata": {
        "colab": {
          "base_uri": "https://localhost:8080/"
        },
        "id": "NUeZBqkullOn",
        "outputId": "c4eb5e51-6989-4359-a19e-6e19dbdf13ca"
      },
      "outputs": [
        {
          "output_type": "stream",
          "name": "stdout",
          "text": [
            "Hello, Linguistics\n"
          ]
        }
      ],
      "source": [
        "sent = \"Hello, Linguistics\"\n",
        "print(sent)"
      ]
    },
    {
      "cell_type": "code",
      "source": [
        "print(sent.lower())"
      ],
      "metadata": {
        "colab": {
          "base_uri": "https://localhost:8080/"
        },
        "id": "Stfi6goIm4ph",
        "outputId": "260f2c7b-e183-4ac0-e38f-336fecd1e81a"
      },
      "execution_count": null,
      "outputs": [
        {
          "output_type": "stream",
          "name": "stdout",
          "text": [
            "hello, linguistics\n"
          ]
        }
      ]
    },
    {
      "cell_type": "code",
      "source": [
        "num = [3, 5, 1, 4, 2]\n",
        "print(num[0])\n",
        "print(num[-1])"
      ],
      "metadata": {
        "colab": {
          "base_uri": "https://localhost:8080/"
        },
        "id": "IqtO0SoXnhpy",
        "outputId": "cee4bd4d-9c63-4c05-ac9f-b03825cecb19"
      },
      "execution_count": null,
      "outputs": [
        {
          "output_type": "stream",
          "name": "stdout",
          "text": [
            "3\n",
            "2\n"
          ]
        }
      ]
    },
    {
      "cell_type": "code",
      "source": [
        "animals_1 = [\"Dog\",\"Cat\",\"Bird\",\"Tiger\",\"Elephant\"]\n",
        "if (len(animals_1) > 2):\n",
        "    print(\"yes\")\n",
        "else:\n",
        "    print(\"no\")"
      ],
      "metadata": {
        "colab": {
          "base_uri": "https://localhost:8080/"
        },
        "id": "xhffVnlzpA5B",
        "outputId": "73a5d255-886f-4427-cf35-0c0b2e307b2d"
      },
      "execution_count": null,
      "outputs": [
        {
          "output_type": "stream",
          "name": "stdout",
          "text": [
            "yes\n"
          ]
        }
      ]
    },
    {
      "cell_type": "code",
      "source": [
        "animals_2 = [\"Dog\"]\n",
        "if (len(animals_2) > 2):\n",
        "    print(\"yes\")\n",
        "else:\n",
        "    print(\"no\")"
      ],
      "metadata": {
        "colab": {
          "base_uri": "https://localhost:8080/"
        },
        "id": "6n-Uqgniroe4",
        "outputId": "9eb9e681-54be-4b61-fd2a-88a3f5c454fe"
      },
      "execution_count": null,
      "outputs": [
        {
          "output_type": "stream",
          "name": "stdout",
          "text": [
            "no\n"
          ]
        }
      ]
    }
  ]
}