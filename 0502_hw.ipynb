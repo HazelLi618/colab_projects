{
  "nbformat": 4,
  "nbformat_minor": 0,
  "metadata": {
    "colab": {
      "provenance": [],
      "authorship_tag": "ABX9TyMIUzaIOkn7bn91ewKP842i",
      "include_colab_link": true
    },
    "kernelspec": {
      "name": "python3",
      "display_name": "Python 3"
    },
    "language_info": {
      "name": "python"
    }
  },
  "cells": [
    {
      "cell_type": "markdown",
      "metadata": {
        "id": "view-in-github",
        "colab_type": "text"
      },
      "source": [
        "<a href=\"https://colab.research.google.com/github/HazelLi618/colab_projects/blob/main/0502_hw.ipynb\" target=\"_parent\"><img src=\"https://colab.research.google.com/assets/colab-badge.svg\" alt=\"Open In Colab\"/></a>"
      ]
    },
    {
      "cell_type": "code",
      "source": [
        "sent = \"Today is a good day!\""
      ],
      "metadata": {
        "id": "MotYAy0OBxtG"
      },
      "execution_count": null,
      "outputs": []
    },
    {
      "cell_type": "code",
      "source": [
        "print(len(sent))"
      ],
      "metadata": {
        "colab": {
          "base_uri": "https://localhost:8080/"
        },
        "id": "E7yBOmjzCAFG",
        "outputId": "31bef887-262d-4170-bd30-7ff1a149220a"
      },
      "execution_count": null,
      "outputs": [
        {
          "output_type": "stream",
          "name": "stdout",
          "text": [
            "20\n"
          ]
        }
      ]
    },
    {
      "cell_type": "code",
      "source": [
        "print(sent.upper())"
      ],
      "metadata": {
        "colab": {
          "base_uri": "https://localhost:8080/"
        },
        "id": "AWQPzD-MEhX0",
        "outputId": "75ba0b4d-c02f-4655-c867-434227c07078"
      },
      "execution_count": null,
      "outputs": [
        {
          "output_type": "stream",
          "name": "stdout",
          "text": [
            "TODAY IS A GOOD DAY!\n"
          ]
        }
      ]
    },
    {
      "cell_type": "code",
      "source": [
        "print(sent.lower())"
      ],
      "metadata": {
        "colab": {
          "base_uri": "https://localhost:8080/"
        },
        "id": "2WOjkaRoFfQE",
        "outputId": "44686fa8-614e-4453-c670-99adea7365b1"
      },
      "execution_count": null,
      "outputs": [
        {
          "output_type": "stream",
          "name": "stdout",
          "text": [
            "today is a good day!\n"
          ]
        }
      ]
    },
    {
      "cell_type": "code",
      "source": [
        "string_1 = \"grapes\"\n",
        "string_2 = \"lemons\""
      ],
      "metadata": {
        "id": "0ECrbF-9FkLK"
      },
      "execution_count": null,
      "outputs": []
    },
    {
      "cell_type": "code",
      "source": [
        "print(f\"Let's eat {string_1}\")\n",
        "print(f\"Let's eat {string_2}\")"
      ],
      "metadata": {
        "colab": {
          "base_uri": "https://localhost:8080/"
        },
        "id": "UZy5hATuF6OK",
        "outputId": "302e9bda-51ae-4068-9f95-4e690518fd8b"
      },
      "execution_count": null,
      "outputs": [
        {
          "output_type": "stream",
          "name": "stdout",
          "text": [
            "Let's eat grapes\n",
            "Let's eat lemons\n"
          ]
        }
      ]
    },
    {
      "cell_type": "code",
      "source": [
        "def wordDetect(sent):\n",
        "  if sent == sent.lower():\n",
        "    print(\"lower\")\n",
        "  elif sent == sent.upper():\n",
        "    print(\"upper\")\n",
        "  else:\n",
        "    print(\"mixed\")\n",
        "\n",
        "string_text = \"WildAnimal\"\n",
        "wordDetect (string_text)"
      ],
      "metadata": {
        "colab": {
          "base_uri": "https://localhost:8080/"
        },
        "id": "_akM5KPaOUhN",
        "outputId": "84ed3329-a176-4703-f34a-a4f553864fad"
      },
      "execution_count": null,
      "outputs": [
        {
          "output_type": "stream",
          "name": "stdout",
          "text": [
            "mixed\n"
          ]
        }
      ]
    }
  ]
}